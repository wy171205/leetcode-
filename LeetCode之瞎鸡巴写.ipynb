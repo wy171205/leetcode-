{
 "cells": [
  {
   "cell_type": "code",
   "execution_count": 23,
   "metadata": {
    "ExecuteTime": {
     "end_time": "2019-04-23T09:15:34.849585Z",
     "start_time": "2019-04-23T09:15:34.843573Z"
    }
   },
   "outputs": [
    {
     "data": {
      "text/plain": [
       "4"
      ]
     },
     "execution_count": 23,
     "metadata": {},
     "output_type": "execute_result"
    }
   ],
   "source": [
    "last = 0 \n",
    "now = 0\n",
    "nums=[2,1,1,2]\n",
    "for i in nums: \n",
    "    #其实就是一个奇数和偶数位元素求和，哪个更大么？\n",
    "    last, now = now, max(last + i, now)\n",
    "now"
   ]
  },
  {
   "cell_type": "code",
   "execution_count": 27,
   "metadata": {
    "ExecuteTime": {
     "end_time": "2019-04-23T11:10:12.243369Z",
     "start_time": "2019-04-23T11:10:12.236388Z"
    }
   },
   "outputs": [
    {
     "data": {
      "text/plain": [
       "4"
      ]
     },
     "execution_count": 27,
     "metadata": {},
     "output_type": "execute_result"
    }
   ],
   "source": [
    "def rob( nums):\n",
    "        \"\"\"\n",
    "        :type nums: List[int]\n",
    "        :rtype: int\n",
    "        \"\"\"\n",
    "        result = 0\n",
    "\n",
    "        if not nums:\n",
    "            return result\n",
    "            \n",
    "        for i in range(len(nums)):\n",
    "            result = max(result, nums[i] + rob(nums[i+2:]))\n",
    "\n",
    "        return result\n",
    "nums=[2,1,1,2]\n",
    "rob(nums=nums)"
   ]
  },
  {
   "cell_type": "code",
   "execution_count": 7,
   "metadata": {
    "ExecuteTime": {
     "end_time": "2019-04-24T02:23:40.858620Z",
     "start_time": "2019-04-24T02:23:40.853608Z"
    }
   },
   "outputs": [
    {
     "name": "stdout",
     "output_type": "stream",
     "text": [
      "1\n",
      "<class 'int'>\n",
      "2\n",
      "<class 'int'>\n",
      "3\n",
      "<class 'int'>\n"
     ]
    }
   ],
   "source": [
    "n=123\n",
    "for  i  in str(n):\n",
    "    i=int(i)\n",
    "    print(i)\n",
    "    print(type(i))"
   ]
  },
  {
   "cell_type": "code",
   "execution_count": 10,
   "metadata": {
    "ExecuteTime": {
     "end_time": "2019-04-24T02:40:57.167011Z",
     "start_time": "2019-04-24T02:40:57.154046Z"
    }
   },
   "outputs": [
    {
     "name": "stdout",
     "output_type": "stream",
     "text": [
      "19\n",
      "82\n",
      "68\n",
      "100\n"
     ]
    },
    {
     "data": {
      "text/plain": [
       "True"
      ]
     },
     "execution_count": 10,
     "metadata": {},
     "output_type": "execute_result"
    }
   ],
   "source": [
    "def isHappy( n):\n",
    "        \"\"\"\n",
    "        :type n: int\n",
    "        :rtype: bool\n",
    "        \"\"\"\n",
    "        a=set()\n",
    "        \n",
    "        while n!=1:\n",
    "            tem=0\n",
    "            for i in str(n):\n",
    "                tem+=int(i)**2\n",
    "            \n",
    "            print(n)\n",
    "            if n in a:\n",
    "                return False\n",
    "            else:\n",
    "                a.add(n)\n",
    "            n=tem\n",
    "        return True\n",
    "    \n",
    "isHappy(19)"
   ]
  },
  {
   "cell_type": "code",
   "execution_count": 8,
   "metadata": {
    "ExecuteTime": {
     "end_time": "2019-04-25T05:18:46.245260Z",
     "start_time": "2019-04-25T05:18:46.236256Z"
    }
   },
   "outputs": [
    {
     "name": "stdout",
     "output_type": "stream",
     "text": [
      "2\n",
      "3\n",
      "5\n",
      "7\n"
     ]
    },
    {
     "data": {
      "text/plain": [
       "4"
      ]
     },
     "execution_count": 8,
     "metadata": {},
     "output_type": "execute_result"
    }
   ],
   "source": [
    "def countPrimes(n):\n",
    "        \"\"\"\n",
    "        :type n: int\n",
    "        :rtype: int\n",
    "        \"\"\"\n",
    "        if n==0 or n==1:\n",
    "            return 0\n",
    "        flag=0\n",
    "        count=0\n",
    "        for i in range(2,n):  # 循环检查每个小于n的数\n",
    "            # 检查是否为质数\n",
    "            \n",
    "            for j in range(2,i):\n",
    "                if i%j == 0:\n",
    "                    flag=1\n",
    "                    break\n",
    "            if flag==0:\n",
    "                count+=1\n",
    "                print(i)\n",
    "            else:\n",
    "                flag=0\n",
    "        return count\n",
    "countPrimes(10)"
   ]
  },
  {
   "cell_type": "code",
   "execution_count": 22,
   "metadata": {
    "ExecuteTime": {
     "end_time": "2019-04-25T13:15:27.293472Z",
     "start_time": "2019-04-25T13:15:27.284468Z"
    }
   },
   "outputs": [
    {
     "data": {
      "text/plain": [
       "False"
      ]
     },
     "execution_count": 22,
     "metadata": {},
     "output_type": "execute_result"
    }
   ],
   "source": [
    "def isIsomorphic(s, t):\n",
    "        \"\"\"\n",
    "        :type s: str\n",
    "        :type t: str\n",
    "        :rtype: bool\n",
    "        \"\"\"\n",
    "        l1=aabb(s)\n",
    "        l2=aabb(t)\n",
    "        \n",
    "        for i in range(len(l1)):\n",
    "            if l1[i] != l2[i]:\n",
    "                return False\n",
    "        return True\n",
    "        \n",
    "def aabb(s):\n",
    "    a={}\n",
    "    b=1\n",
    "    c=[]\n",
    "    for i in s:\n",
    "        if i in a:\n",
    "            c.append(a[i])\n",
    "        else:\n",
    "            a[i]=b\n",
    "            c.append(b)\n",
    "            b+=1\n",
    "    return c\n",
    "\n",
    "isIsomorphic('abba','abab')"
   ]
  },
  {
   "cell_type": "code",
   "execution_count": 1,
   "metadata": {
    "ExecuteTime": {
     "end_time": "2019-04-26T06:33:09.647822Z",
     "start_time": "2019-04-26T06:33:09.643790Z"
    }
   },
   "outputs": [
    {
     "name": "stdout",
     "output_type": "stream",
     "text": [
      "3\n",
      "2\n",
      "1\n"
     ]
    }
   ],
   "source": [
    "a=[1,2,3]\n",
    "for i in a[::-1]:\n",
    "    print(i)"
   ]
  },
  {
   "cell_type": "code",
   "execution_count": 3,
   "metadata": {
    "ExecuteTime": {
     "end_time": "2019-05-10T08:25:46.609159Z",
     "start_time": "2019-05-10T08:25:46.603175Z"
    }
   },
   "outputs": [
    {
     "data": {
      "text/plain": [
       "str"
      ]
     },
     "execution_count": 3,
     "metadata": {},
     "output_type": "execute_result"
    }
   ],
   "source": [
    "n=5\n",
    "type(bin(n))\n",
    "\n"
   ]
  },
  {
   "cell_type": "markdown",
   "metadata": {},
   "source": [
    "# 232、用栈实现队列"
   ]
  },
  {
   "cell_type": "code",
   "execution_count": null,
   "metadata": {},
   "outputs": [],
   "source": [
    "class MyQueue(object):\n",
    "\n",
    "    def __init__(self):\n",
    "        \"\"\"\n",
    "        Initialize your data structure here.\n",
    "        \"\"\"\n",
    "        self.stack1=[]   # 用作存储数据\n",
    "        self.stack2=[]   # pop操作中用作中转\n",
    "        \n",
    "    def push(self, x):\n",
    "        \"\"\"\n",
    "        Push element x to the back of queue.\n",
    "        :type x: int\n",
    "        :rtype: None\n",
    "        \"\"\"\n",
    "        self.stack1.append(x)\n",
    "\n",
    "    def pop(self):\n",
    "        \"\"\"\n",
    "        Removes the element from in front of queue and returns that element.\n",
    "        :rtype: int\n",
    "        \"\"\"\n",
    "        while self.stack1:\n",
    "            self.stack2.append(self.stack1.pop()) # stack1中所有元素转移到了stack2中，并且顺序相反\n",
    "        res=self.stack2.pop() \n",
    "        while self.stack2:\n",
    "            self.stack1.append(self.stack2.pop())  # stack2 中元素转移回stack1\n",
    "        return res\n",
    "\n",
    "    def peek(self):\n",
    "        \"\"\"\n",
    "        Get the front element.\n",
    "        :rtype: int\n",
    "        \"\"\"\n",
    "        if len(self.stack1)>0:\n",
    "            return self.stack1[0]\n",
    "        else:\n",
    "            return None\n",
    "\n",
    "    def empty(self):\n",
    "        \"\"\"\n",
    "        Returns whether the queue is empty.\n",
    "        :rtype: bool\n",
    "        \"\"\"\n",
    "        return len(self.stack1) == 0\n",
    "\n",
    "\n",
    "# Your MyQueue object will be instantiated and called as such:\n",
    "# obj = MyQueue()\n",
    "# obj.push(x)\n",
    "# param_2 = obj.pop()\n",
    "# param_3 = obj.peek()\n",
    "# param_4 = obj.empty()"
   ]
  },
  {
   "cell_type": "markdown",
   "metadata": {},
   "source": [
    "# 234、回文链表"
   ]
  },
  {
   "cell_type": "code",
   "execution_count": null,
   "metadata": {},
   "outputs": [],
   "source": [
    "# Definition for singly-linked list.\n",
    "# class ListNode(object):\n",
    "#     def __init__(self, x):\n",
    "#         self.val = x\n",
    "#         self.next = None\n",
    "\n",
    "class Solution(object):\n",
    "    def isPalindrome(self, head):\n",
    "        \"\"\"\n",
    "        :type head: ListNode\n",
    "        :rtype: bool\n",
    "        \"\"\"\n",
    "        # 提取所有值\n",
    "        val_list=[]\n",
    "        while head:\n",
    "            val_list.append(head.val)\n",
    "            head=head.next\n",
    "        # 检验是否是回文\n",
    "        length=len(val_list)\n",
    "        for i in range(length//2):\n",
    "            if val_list[i] != val_list[length-i-1]:\n",
    "                return False\n",
    "        return True"
   ]
  },
  {
   "cell_type": "markdown",
   "metadata": {},
   "source": [
    "# 235、二叉搜索树的公共祖先"
   ]
  },
  {
   "cell_type": "markdown",
   "metadata": {},
   "source": [
    "**思路：\n",
    "二叉搜索树又叫做二叉排序树，二叉查找树。利用二叉搜索树性质：左子树都小于根节点内，右子树都大于根节点，如果在之间则已经找到了**"
   ]
  },
  {
   "cell_type": "code",
   "execution_count": null,
   "metadata": {},
   "outputs": [],
   "source": [
    "# Definition for a binary tree node.\n",
    "# class TreeNode(object):\n",
    "#     def __init__(self, x):\n",
    "#         self.val = x\n",
    "#         self.left = None\n",
    "#         self.right = None\n",
    "\n",
    "class Solution(object):\n",
    "    def lowestCommonAncestor(self, root, p, q):\n",
    "        \"\"\"\n",
    "        :type root: TreeNode\n",
    "        :type p: TreeNode\n",
    "        :type q: TreeNode\n",
    "        :rtype: TreeNode\n",
    "        \"\"\"\n",
    "        if p.val < root.val >q.val:\n",
    "            return self.lowestCommonAncestor(root.left,p,q)\n",
    "        if p.val > root.val < q.val:\n",
    "            return self.lowestCommonAncestor(root.right,p,q)\n",
    "        return root\n",
    "        "
   ]
  },
  {
   "cell_type": "markdown",
   "metadata": {},
   "source": [
    "# 237、删除链表中的点"
   ]
  },
  {
   "cell_type": "markdown",
   "metadata": {},
   "source": [
    "**思路：本题没有给head节点，只用node做。把node.next的值赋给node，然后node.next指向node.next.next**"
   ]
  },
  {
   "cell_type": "code",
   "execution_count": null,
   "metadata": {},
   "outputs": [],
   "source": [
    "# Definition for singly-linked list.\n",
    "# class ListNode(object):\n",
    "#     def __init__(self, x):\n",
    "#         self.val = x\n",
    "#         self.next = None\n",
    "\n",
    "class Solution(object):\n",
    "    def deleteNode(self, node):\n",
    "        \"\"\"\n",
    "        :type node: ListNode\n",
    "        :rtype: void Do not return anything, modify node in-place instead.\n",
    "        \"\"\"\n",
    "        node.val = node.next.val\n",
    "        node.next=node.next.next"
   ]
  },
  {
   "cell_type": "markdown",
   "metadata": {
    "ExecuteTime": {
     "end_time": "2019-05-15T02:49:44.294793Z",
     "start_time": "2019-05-15T02:49:44.289835Z"
    }
   },
   "source": [
    "# 242、有效的字母异位词"
   ]
  },
  {
   "cell_type": "code",
   "execution_count": null,
   "metadata": {},
   "outputs": [],
   "source": []
  },
  {
   "cell_type": "code",
   "execution_count": null,
   "metadata": {},
   "outputs": [],
   "source": [
    "class Solution(object):\n",
    "    def isAnagram(self, s, t):\n",
    "        \"\"\"\n",
    "        :type s: str\n",
    "        :type t: str\n",
    "        :rtype: bool\n",
    "        \"\"\"\n",
    "        alpha_count={}\n",
    "        for i in s:  # 统计s中字母出现的次数\n",
    "            if i not in alpha_count:\n",
    "                alpha_count[i]=1\n",
    "            else:\n",
    "                alpha_count[i]+=1\n",
    "        for j in t:  # t中如果出现相同字母则减一\n",
    "            if j not in alpha_count:\n",
    "                return False\n",
    "            else:\n",
    "                alpha_count[j]-=1\n",
    "        for v in alpha_count.values(): # 查看是否所有值都为0\n",
    "            if v != 0:\n",
    "                return False\n",
    "        return True"
   ]
  },
  {
   "cell_type": "code",
   "execution_count": 2,
   "metadata": {
    "ExecuteTime": {
     "end_time": "2019-05-15T02:52:45.674507Z",
     "start_time": "2019-05-15T02:52:45.670517Z"
    }
   },
   "outputs": [
    {
     "name": "stdout",
     "output_type": "stream",
     "text": [
      "a\n",
      "b\n",
      "c\n"
     ]
    }
   ],
   "source": [
    "s='abc'\n",
    "for i in s:\n",
    "    print(i)"
   ]
  },
  {
   "cell_type": "markdown",
   "metadata": {},
   "source": [
    "# 257、二叉树的所有路径"
   ]
  },
  {
   "cell_type": "markdown",
   "metadata": {},
   "source": [
    "从根节点出发找叶子，找到叶子之后，所有这条“找寻之路”上的所有节点构成了我们要打印出来的一条路径。所以，我们需要建立一个全局变量path，存储未到达当前节点时扫描过的路径中有哪些节点，作为从当前节点起，往叶子遍历所经过的路径的前缀。同理，最后的结果列表也是一个全局变量了。 \n",
    "所以，当题目中给出的函数形参只有一个root时，我们就需要再设定一个辅助函数，包含刚才说的path和result，让他们两个成为全局变量。 \n",
    "总结一下思路： \n",
    "1. 建立一个字符串变量path和结果列表result，初始化为空 \n",
    "2. 从根节点开始访问，之后访问其左子树，再访问其右子树 \n",
    "3. 每访问一个节点，将节点的值加入path，例如，访问完根节点后，path = “1 ->”，并将这里的path作为新的变量加入左右子树的遍历函数 \n",
    "4. 递归“触底”的条件：访问的节点为空 \n",
    "思路： \n",
    "二叉树遍历问题 \n",
    "如果当前节点的左儿子和右儿子都为None => 说明当前节点为一个根节点，输出一条路径 "
   ]
  },
  {
   "cell_type": "code",
   "execution_count": null,
   "metadata": {},
   "outputs": [],
   "source": [
    "# Definition for a binary tree node.\n",
    "# class TreeNode(object):\n",
    "#     def __init__(self, x):\n",
    "#         self.val = x\n",
    "#         self.left = None\n",
    "#         self.right = None\n",
    "\n",
    "\n",
    "class Solution(object):\n",
    "    def binaryTreePaths(self, root):\n",
    "        \"\"\"\n",
    "        :type root: TreeNode\n",
    "        :rtype: List[str]\n",
    "        \"\"\"\n",
    "        def get_path(root,path,res):  # 记录经过的节点\n",
    "            if not root.left and not root.right:  # 到达叶子节点，一条路径形成\n",
    "                res.append(path+str(root.val))\n",
    "                return\n",
    "            if root.left:\n",
    "                get_path(root.left,path+str(root.val)+'->',res)\n",
    "            if root.right:\n",
    "                get_path(root.right,path+str(root.val)+'->',res)\n",
    "            \n",
    "        if not root:\n",
    "            return []\n",
    "        res=[]\n",
    "        get_path(root,'',res)\n",
    "        return res"
   ]
  },
  {
   "cell_type": "markdown",
   "metadata": {},
   "source": [
    "# 258、各位相加"
   ]
  },
  {
   "cell_type": "markdown",
   "metadata": {},
   "source": [
    "数字转换为字符串格式，进行遍历相加"
   ]
  },
  {
   "cell_type": "code",
   "execution_count": null,
   "metadata": {},
   "outputs": [],
   "source": [
    "class Solution(object):\n",
    "    def addDigits(self, num):\n",
    "        \"\"\"\n",
    "        :type num: int\n",
    "        :rtype: int\n",
    "        \"\"\"\n",
    "        while num//10 > 0:\n",
    "            tem=0\n",
    "            for i in str(num):\n",
    "                tem += int(i)\n",
    "                num=tem\n",
    "        return num"
   ]
  },
  {
   "cell_type": "markdown",
   "metadata": {},
   "source": [
    "# 263、丑数"
   ]
  },
  {
   "cell_type": "markdown",
   "metadata": {},
   "source": [
    "    把num中的2 3 5 通过while循环清除干净 ， 如果还含有其他质因数则最后结果不为1"
   ]
  },
  {
   "cell_type": "code",
   "execution_count": 4,
   "metadata": {
    "ExecuteTime": {
     "end_time": "2019-05-17T02:38:33.725668Z",
     "start_time": "2019-05-17T02:38:33.711707Z"
    }
   },
   "outputs": [
    {
     "data": {
      "text/plain": [
       "False"
      ]
     },
     "execution_count": 4,
     "metadata": {},
     "output_type": "execute_result"
    }
   ],
   "source": [
    "def isUgly(num):\n",
    "    \"\"\"\n",
    "    :type num: int\n",
    "    :rtype: bool\n",
    "    \"\"\"\n",
    "    if num == 0:\n",
    "        return False\n",
    "    div=[2,3,5]\n",
    "    for i in div:\n",
    "        while num % i == 0:  # num中包含2,3,5 ， 利用while循环把num中的2,3,5除干净\n",
    "            num/=i\n",
    "    return num == 1\n",
    "isUgly(6)\n",
    "isUgly(8)\n",
    "isUgly(14)"
   ]
  },
  {
   "cell_type": "markdown",
   "metadata": {},
   "source": [
    "# 268、缺失数字"
   ]
  },
  {
   "cell_type": "markdown",
   "metadata": {},
   "source": [
    "set求两集合之差"
   ]
  },
  {
   "cell_type": "code",
   "execution_count": null,
   "metadata": {},
   "outputs": [],
   "source": [
    "class Solution(object):\n",
    "    def missingNumber(self, nums):\n",
    "        \"\"\"\n",
    "        :type nums: List[int]\n",
    "        :rtype: int\n",
    "        \"\"\"\n",
    "        n=len(nums)\n",
    "        whole=set([x for x in range(n+1)])\n",
    "        return (whole-set(nums)).pop()"
   ]
  },
  {
   "cell_type": "markdown",
   "metadata": {},
   "source": [
    "# 278、第一个错误的版本"
   ]
  },
  {
   "cell_type": "markdown",
   "metadata": {},
   "source": [
    "暴力查找内存占用太高，不能满足题目要求，改用二分查找法，循环停止条件是start > end"
   ]
  },
  {
   "cell_type": "code",
   "execution_count": null,
   "metadata": {},
   "outputs": [],
   "source": [
    "# The isBadVersion API is already defined for you.\n",
    "# @param version, an integer\n",
    "# @return a bool\n",
    "# def isBadVersion(version):\n",
    "# 内存占用太高 ， 此法弃用\n",
    "class Solution(object):\n",
    "    def firstBadVersion(self, n):\n",
    "        \"\"\"\n",
    "        :type n: int\n",
    "        :rtype: int\n",
    "        \"\"\"\n",
    "        \n",
    "        for i in range(n,0,-1):\n",
    "            if not isBadVersion(i):\n",
    "                return i+1\n",
    "        if not isBadVersion(1):\n",
    "            return 1"
   ]
  },
  {
   "cell_type": "code",
   "execution_count": null,
   "metadata": {},
   "outputs": [],
   "source": [
    "# The isBadVersion API is already defined for you.\n",
    "# @param version, an integer\n",
    "# @return a bool\n",
    "# def isBadVersion(version):\n",
    "\n",
    "class Solution(object):\n",
    "    def firstBadVersion(self, n):\n",
    "        \"\"\"\n",
    "        :type n: int\n",
    "        :rtype: int\n",
    "        \"\"\"\n",
    "        start = 1\n",
    "        end = n\n",
    "        mid=(start + end)//2\n",
    "        \n",
    "        while start <= end:\n",
    "            if isBadVersion(mid):\n",
    "                end=mid-1\n",
    "            else:\n",
    "                start=mid+1\n",
    "            mid=(start+end)//2\n",
    "        return start"
   ]
  },
  {
   "cell_type": "markdown",
   "metadata": {},
   "source": [
    "# 283、移动零"
   ]
  },
  {
   "cell_type": "markdown",
   "metadata": {},
   "source": [
    "遍历nums，发现非零元素就用当前的非零元素从头开始覆盖nums，遍历完毕，补零"
   ]
  },
  {
   "cell_type": "code",
   "execution_count": 4,
   "metadata": {
    "ExecuteTime": {
     "end_time": "2019-05-18T07:06:33.876813Z",
     "start_time": "2019-05-18T07:06:33.870828Z"
    },
    "scrolled": true
   },
   "outputs": [
    {
     "data": {
      "text/plain": [
       "[1, 3]"
      ]
     },
     "execution_count": 4,
     "metadata": {},
     "output_type": "execute_result"
    }
   ],
   "source": [
    "class Solution(object):   # 运行速度不快\n",
    "    def moveZeroes(self, nums):\n",
    "        \"\"\"\n",
    "        :type nums: List[int]\n",
    "        :rtype: None Do not return anything, modify nums in-place instead.\n",
    "        \"\"\"\n",
    "        count_0=nums.count(0)  # 记录0的个数\n",
    "        for i in range(count_0):\n",
    "            nums.remove(0)\n",
    "        tem=[0]*n   # 需要连接的0 \n",
    "        nums.extend(tem)"
   ]
  },
  {
   "cell_type": "code",
   "execution_count": 5,
   "metadata": {
    "ExecuteTime": {
     "end_time": "2019-05-18T07:09:00.133409Z",
     "start_time": "2019-05-18T07:09:00.129406Z"
    }
   },
   "outputs": [
    {
     "data": {
      "text/plain": [
       "[1, 3]"
      ]
     },
     "execution_count": 5,
     "metadata": {},
     "output_type": "execute_result"
    }
   ],
   "source": [
    "class Solution(object):\n",
    "    def moveZeroes(self,nums):\n",
    "        if nums is None:\n",
    "            return None\n",
    "        j = 0\n",
    "        #j :记录找到的non-zero数量\n",
    "        for num in nums:\n",
    "            if num!=0:\n",
    "                nums[j]=num\n",
    "                j=j+1\n",
    "        if j is 0:\n",
    "            return nums\n",
    "        for i in range(j,len(nums)):\n",
    "            nums[i]=0\n",
    "        return nums"
   ]
  },
  {
   "cell_type": "markdown",
   "metadata": {},
   "source": [
    "# 290、单词规律"
   ]
  },
  {
   "cell_type": "markdown",
   "metadata": {},
   "source": [
    "构建字典，k为pattern中的单个元素，v是s_list = str.split(' ')中的单个元素。如果当前键不存在则输入字典，如果当前键已经存在，则检查当前s_list中元素是否等于字典中已存在键的值。   \n",
    "\"abba\"   \"dog dog dog dog\"  为了排除这种情况还要首先进行验证两个两个字符串set去重后长度是否相等"
   ]
  },
  {
   "cell_type": "code",
   "execution_count": null,
   "metadata": {},
   "outputs": [],
   "source": [
    "# 正确\n",
    "\n",
    "class Solution(object):\n",
    "    def wordPattern(self, pattern, str):\n",
    "        \"\"\"\n",
    "        :type pattern: str\n",
    "        :type str: str\n",
    "        :rtype: bool\n",
    "        \"\"\"\n",
    "        s_list=str.split(' ')\n",
    "        dic={}\n",
    "        if len(s_list) != len(pattern) or len(set(pattern)) != len(set(s_list)):\n",
    "            return False\n",
    "        for i in range(len(pattern)):\n",
    "            if pattern[i] not in dic:\n",
    "                dic[pattern[i]] = s_list[i]\n",
    "            else:\n",
    "                if s_list[i] != dic[pattern[i]]:\n",
    "                    return False\n",
    "        return True"
   ]
  },
  {
   "cell_type": "code",
   "execution_count": null,
   "metadata": {},
   "outputs": [],
   "source": [
    "# 这种解法错误\n",
    "class Solution(object):\n",
    "    def wordPattern(self, pattern, str):\n",
    "        \"\"\"\n",
    "        :type pattern: str\n",
    "        :type str: str\n",
    "        :rtype: bool\n",
    "        \"\"\"\n",
    "        def make_dict(s_list):\n",
    "            s_dict={}\n",
    "            res=[]\n",
    "            for k,v in enumerate(set(s_list)):  # 利用set（）去重之后，可能会改变原数据内元素的顺序， 如 ‘abc’经过set（‘abc）’）\n",
    "                s_dict[v]=k\n",
    "            for i in s_list:\n",
    "                res.append(s_dict[i])\n",
    "            return res\n",
    "            \n",
    "            \n",
    "        s_list=str.split(' ')\n",
    "        return make_dict(list(pattern)) == make_dict(s_list)\n",
    "    \n",
    "        "
   ]
  },
  {
   "cell_type": "code",
   "execution_count": 28,
   "metadata": {
    "ExecuteTime": {
     "end_time": "2019-05-18T10:31:30.767467Z",
     "start_time": "2019-05-18T10:31:30.135076Z"
    },
    "collapsed": true
   },
   "outputs": [
    {
     "name": "stdout",
     "output_type": "stream",
     "text": [
      "['a', 'b', 'c']\n"
     ]
    },
    {
     "ename": "TypeError",
     "evalue": "'NoneType' object is not iterable",
     "output_type": "error",
     "traceback": [
      "\u001b[1;31m---------------------------------------------------------------------------\u001b[0m",
      "\u001b[1;31mTypeError\u001b[0m                                 Traceback (most recent call last)",
      "\u001b[1;32m<ipython-input-28-812f2f3fe527>\u001b[0m in \u001b[0;36m<module>\u001b[1;34m\u001b[0m\n\u001b[0;32m     23\u001b[0m         \u001b[1;32mreturn\u001b[0m \u001b[0mmake_dict\u001b[0m\u001b[1;33m(\u001b[0m\u001b[0mlist\u001b[0m\u001b[1;33m(\u001b[0m\u001b[0mpattern\u001b[0m\u001b[1;33m)\u001b[0m\u001b[1;33m)\u001b[0m \u001b[1;33m==\u001b[0m \u001b[0mmake_dict\u001b[0m\u001b[1;33m(\u001b[0m\u001b[0ms_list\u001b[0m\u001b[1;33m)\u001b[0m\u001b[1;33m\u001b[0m\u001b[0m\n\u001b[0;32m     24\u001b[0m \u001b[1;33m\u001b[0m\u001b[0m\n\u001b[1;32m---> 25\u001b[1;33m \u001b[0mwordPattern\u001b[0m\u001b[1;33m(\u001b[0m\u001b[1;34m'abc'\u001b[0m\u001b[1;33m,\u001b[0m\u001b[1;34m'b c a'\u001b[0m\u001b[1;33m)\u001b[0m\u001b[1;33m\u001b[0m\u001b[0m\n\u001b[0m",
      "\u001b[1;32m<ipython-input-28-812f2f3fe527>\u001b[0m in \u001b[0;36mwordPattern\u001b[1;34m(pattern, str)\u001b[0m\n\u001b[0;32m     21\u001b[0m \u001b[1;33m\u001b[0m\u001b[0m\n\u001b[0;32m     22\u001b[0m         \u001b[0ms_list\u001b[0m\u001b[1;33m=\u001b[0m\u001b[0mstr\u001b[0m\u001b[1;33m.\u001b[0m\u001b[0msplit\u001b[0m\u001b[1;33m(\u001b[0m\u001b[1;34m' '\u001b[0m\u001b[1;33m)\u001b[0m\u001b[1;33m\u001b[0m\u001b[0m\n\u001b[1;32m---> 23\u001b[1;33m         \u001b[1;32mreturn\u001b[0m \u001b[0mmake_dict\u001b[0m\u001b[1;33m(\u001b[0m\u001b[0mlist\u001b[0m\u001b[1;33m(\u001b[0m\u001b[0mpattern\u001b[0m\u001b[1;33m)\u001b[0m\u001b[1;33m)\u001b[0m \u001b[1;33m==\u001b[0m \u001b[0mmake_dict\u001b[0m\u001b[1;33m(\u001b[0m\u001b[0ms_list\u001b[0m\u001b[1;33m)\u001b[0m\u001b[1;33m\u001b[0m\u001b[0m\n\u001b[0m\u001b[0;32m     24\u001b[0m \u001b[1;33m\u001b[0m\u001b[0m\n\u001b[0;32m     25\u001b[0m \u001b[0mwordPattern\u001b[0m\u001b[1;33m(\u001b[0m\u001b[1;34m'abc'\u001b[0m\u001b[1;33m,\u001b[0m\u001b[1;34m'b c a'\u001b[0m\u001b[1;33m)\u001b[0m\u001b[1;33m\u001b[0m\u001b[0m\n",
      "\u001b[1;32m<ipython-input-28-812f2f3fe527>\u001b[0m in \u001b[0;36mmake_dict\u001b[1;34m(s_list)\u001b[0m\n\u001b[0;32m      9\u001b[0m             \u001b[0mres\u001b[0m\u001b[1;33m=\u001b[0m\u001b[1;33m[\u001b[0m\u001b[1;33m]\u001b[0m\u001b[1;33m\u001b[0m\u001b[0m\n\u001b[0;32m     10\u001b[0m             \u001b[0mprint\u001b[0m\u001b[1;33m(\u001b[0m\u001b[0ms_list\u001b[0m\u001b[1;33m)\u001b[0m\u001b[1;33m\u001b[0m\u001b[0m\n\u001b[1;32m---> 11\u001b[1;33m             \u001b[1;32mfor\u001b[0m \u001b[0mk\u001b[0m\u001b[1;33m,\u001b[0m\u001b[0mv\u001b[0m \u001b[1;32min\u001b[0m \u001b[0menumerate\u001b[0m\u001b[1;33m(\u001b[0m\u001b[0mlist\u001b[0m\u001b[1;33m(\u001b[0m\u001b[0mset\u001b[0m\u001b[1;33m(\u001b[0m\u001b[0ms_list\u001b[0m\u001b[1;33m)\u001b[0m\u001b[1;33m)\u001b[0m\u001b[1;33m.\u001b[0m\u001b[0msort\u001b[0m\u001b[1;33m(\u001b[0m\u001b[1;33m)\u001b[0m\u001b[1;33m)\u001b[0m\u001b[1;33m:\u001b[0m  \u001b[1;31m# 利用set（）去重之后，可能会改变原数据内元素的顺， 如 ‘abc’经过set（‘abc）’）\u001b[0m\u001b[1;33m\u001b[0m\u001b[0m\n\u001b[0m\u001b[0;32m     12\u001b[0m                 \u001b[0mprint\u001b[0m\u001b[1;33m(\u001b[0m\u001b[0mset\u001b[0m\u001b[1;33m(\u001b[0m\u001b[0ms_list\u001b[0m\u001b[1;33m)\u001b[0m\u001b[1;33m)\u001b[0m\u001b[1;33m\u001b[0m\u001b[0m\n\u001b[0;32m     13\u001b[0m                 \u001b[0mprint\u001b[0m\u001b[1;33m(\u001b[0m\u001b[0mk\u001b[0m\u001b[1;33m,\u001b[0m\u001b[0mv\u001b[0m\u001b[1;33m)\u001b[0m\u001b[1;33m\u001b[0m\u001b[0m\n",
      "\u001b[1;31mTypeError\u001b[0m: 'NoneType' object is not iterable"
     ]
    }
   ],
   "source": [
    "def wordPattern(pattern, str):\n",
    "        \"\"\"\n",
    "        :type pattern: str\n",
    "        :type str: str\n",
    "        :rtype: bool\n",
    "        \"\"\"\n",
    "        def make_dict(s_list):\n",
    "            s_dict={}\n",
    "            res=[]\n",
    "            print(s_list)\n",
    "            for k,v in enumerate(list(set(s_list)).sort()):  # 利用set（）去重之后，可能会改变原数据内元素的顺序\n",
    "                print(k,v)\n",
    "                s_dict[v]=k\n",
    "            print(s_dict)\n",
    "            for i in s_list:\n",
    "                res.append(s_dict[i])\n",
    "            print('\\n\\n')\n",
    "            return res\n",
    "            \n",
    "            \n",
    "        s_list=str.split(' ')\n",
    "        return make_dict(list(pattern)) == make_dict(s_list)\n",
    "\n",
    "wordPattern('abc','b c a')"
   ]
  },
  {
   "cell_type": "markdown",
   "metadata": {},
   "source": [
    "# 292、Nim游戏"
   ]
  },
  {
   "cell_type": "markdown",
   "metadata": {},
   "source": [
    "如果堆中石头的数量 nn 不能被 44 整除，那么你总是可以赢得 Nim 游戏的胜利。\n",
    "\n",
    "推理\n",
    "\n",
    "让我们考虑一些小例子。显而易见的是，如果石头堆中只有一块、两块、或是三块石头，那么在你的回合，你就可以把全部石子拿走，从而在游戏中取胜。而如果就像题目描述那样，堆中恰好有四块石头，你就会失败。因为在这种情况下不管你取走多少石头，总会为你的对手留下几块，使得他可以在游戏中打败你。因此，要想获胜，在你的回合中，必须避免石头堆中的石子数为 4 的情况。\n",
    "\n",
    "同样地，如果有五块、六块、或是七块石头，你可以控制自己拿取的石头数，总是恰好给你的对手留下四块石头，使他输掉这场比赛。但是如果石头堆里有八块石头，你就不可避免地会输掉，因为不管你从一堆石头中挑出一块、两块还是三块，你的对手都可以选择三块、两块或一块，以确保在再一次轮到你的时候，你会面对四块石头。\n",
    "\n",
    "显然，它以相同的模式不断重复 n=4,8,12,16,…，基本可以看出是 4 的倍数。"
   ]
  },
  {
   "cell_type": "code",
   "execution_count": null,
   "metadata": {},
   "outputs": [],
   "source": [
    "class Solution(object):\n",
    "    def canWinNim(self, n):\n",
    "        \"\"\"\n",
    "        :type n: int\n",
    "        :rtype: bool\n",
    "        \"\"\"\n",
    "        return n%4 != 0"
   ]
  },
  {
   "cell_type": "markdown",
   "metadata": {},
   "source": [
    "# 303、区域和检索"
   ]
  },
  {
   "cell_type": "markdown",
   "metadata": {},
   "source": [
    "利用numpy.cumsum()  求累加和，如果用list切片做运行时间较长"
   ]
  },
  {
   "cell_type": "code",
   "execution_count": null,
   "metadata": {},
   "outputs": [],
   "source": [
    "import numpy as np\n",
    "class NumArray(object):\n",
    "\n",
    "    def __init__(self, nums):\n",
    "        \"\"\"\n",
    "        :type nums: List[int]\n",
    "        \"\"\"\n",
    "        self.sums=np.cumsum(nums)  # 存储累加和\n",
    "\n",
    "    def sumRange(self, i, j):\n",
    "        \"\"\"\n",
    "        :type i: int\n",
    "        :type j: int\n",
    "        :rtype: int\n",
    "        \"\"\"\n",
    "        if i>0:\n",
    "            return self.sums[j]-self.sums[i-1]\n",
    "        else:\n",
    "            return self.sums[j]\n",
    "\n",
    "# Your NumArray object will be instantiated and called as such:\n",
    "# obj = NumArray(nums)\n",
    "# param_1 = obj.sumRange(i,j)"
   ]
  },
  {
   "cell_type": "markdown",
   "metadata": {},
   "source": [
    "# 326、3的幂"
   ]
  },
  {
   "cell_type": "markdown",
   "metadata": {},
   "source": []
  },
  {
   "cell_type": "code",
   "execution_count": null,
   "metadata": {},
   "outputs": [],
   "source": [
    "class Solution(object):\n",
    "    def isPowerOfThree(self, n):\n",
    "            if n == 1:\n",
    "                return True\n",
    "            if n < 3 or n % 3 != 0:\n",
    "                return False\n",
    "            \n",
    "            while True:\n",
    "                n = int(n // 3)\n",
    "                if n == 1:\n",
    "                    return True\n",
    "                if n % 3 !=  0:\n",
    "                    return False"
   ]
  },
  {
   "cell_type": "code",
   "execution_count": null,
   "metadata": {},
   "outputs": [],
   "source": [
    "return  n>0 and 3**19%n==0  # 3的幂只会有3这一种质因数"
   ]
  },
  {
   "cell_type": "markdown",
   "metadata": {},
   "source": [
    "# 342、4的幂"
   ]
  },
  {
   "cell_type": "markdown",
   "metadata": {},
   "source": []
  },
  {
   "cell_type": "code",
   "execution_count": null,
   "metadata": {},
   "outputs": [],
   "source": [
    "class Solution(object):\n",
    "    def isPowerOfFour(self, num):\n",
    "        \"\"\"\n",
    "        :type num: int\n",
    "        :rtype: bool\n",
    "        \"\"\"\n",
    "        if num<1:\n",
    "            return False\n",
    "        while num>1:\n",
    "            if num%4==0:\n",
    "                num=num//4\n",
    "            else:\n",
    "                return False\n",
    "        return True\n",
    "    "
   ]
  },
  {
   "cell_type": "markdown",
   "metadata": {},
   "source": [
    "# 345、反转字符串中的元音字母"
   ]
  },
  {
   "cell_type": "markdown",
   "metadata": {},
   "source": [
    "①该方法内存占用较大\n",
    "\n",
    "思路：创建两个列表 ，index用于存储元音字母的位置，value用于存储s中的元音字母。遍历之后翻转value，然后按照index记录的位置把翻转后的value中元音字母依次赋值到s中"
   ]
  },
  {
   "cell_type": "code",
   "execution_count": 1,
   "metadata": {
    "ExecuteTime": {
     "end_time": "2019-05-20T12:37:20.112086Z",
     "start_time": "2019-05-20T12:37:19.983434Z"
    },
    "collapsed": true
   },
   "outputs": [
    {
     "ename": "TypeError",
     "evalue": "'str' object does not support item assignment",
     "output_type": "error",
     "traceback": [
      "\u001b[1;31m---------------------------------------------------------------------------\u001b[0m",
      "\u001b[1;31mTypeError\u001b[0m                                 Traceback (most recent call last)",
      "\u001b[1;32m<ipython-input-1-fc848a0ab461>\u001b[0m in \u001b[0;36m<module>\u001b[1;34m\u001b[0m\n\u001b[0;32m      1\u001b[0m \u001b[0ma\u001b[0m\u001b[1;33m=\u001b[0m\u001b[1;34m'abc'\u001b[0m\u001b[1;33m\u001b[0m\u001b[0m\n\u001b[1;32m----> 2\u001b[1;33m \u001b[0ma\u001b[0m\u001b[1;33m[\u001b[0m\u001b[1;36m1\u001b[0m\u001b[1;33m]\u001b[0m\u001b[1;33m=\u001b[0m\u001b[1;34m'd'\u001b[0m\u001b[1;33m\u001b[0m\u001b[0m\n\u001b[0m\u001b[0;32m      3\u001b[0m \u001b[0ma\u001b[0m\u001b[1;33m\u001b[0m\u001b[0m\n",
      "\u001b[1;31mTypeError\u001b[0m: 'str' object does not support item assignment"
     ]
    }
   ],
   "source": [
    "class Solution(object):\n",
    "    def reverseVowels(self, s):\n",
    "        \"\"\"\n",
    "        :type s: str\n",
    "        :rtype: str\n",
    "        \"\"\"\n",
    "        index=[]\n",
    "        value=[]\n",
    "        s_list=list(s)\n",
    "        yuan=['a','e','i','o','u','A','E','I','O','U']\n",
    "        for i in range(len(s_list)):\n",
    "            if s_list[i] in yuan:\n",
    "                index.append(i)\n",
    "                value.append(s_list[i])\n",
    "        value.reverse()\n",
    "        c=0\n",
    "        for j in index:\n",
    "            s_list[j]=value[c]\n",
    "            c+=1\n",
    "        return ''.join(s_list)"
   ]
  },
  {
   "cell_type": "markdown",
   "metadata": {},
   "source": [
    "设置左指针和右指针，从两端开始检索元音字母，找到后交换，直到 l>=r 为止"
   ]
  },
  {
   "cell_type": "code",
   "execution_count": 5,
   "metadata": {
    "ExecuteTime": {
     "end_time": "2019-05-20T13:09:46.584929Z",
     "start_time": "2019-05-20T13:09:46.580936Z"
    }
   },
   "outputs": [
    {
     "data": {
      "text/plain": [
       "['u', 'o', 'i', 'e', 'a']"
      ]
     },
     "execution_count": 5,
     "metadata": {},
     "output_type": "execute_result"
    }
   ],
   "source": [
    "class Solution(object):\n",
    "    def reverseVowels(self, s):\n",
    "        \"\"\"\n",
    "        :type s: str\n",
    "        :rtype: str\n",
    "        \"\"\"\n",
    "        yuan=['a','e','i','o','u']\n",
    "        l=0\n",
    "        r=len(s)-1\n",
    "        s_list=list(s)\n",
    "        while l<r:\n",
    "            while l<r and s_list[l].lower() not in yuan:\n",
    "                l+=1\n",
    "            while l<r and s_list[r].lower() not in yuan:\n",
    "                r-=1\n",
    "            if l>=r:\n",
    "                break\n",
    "            s_list[l],s_list[r]=s_list[r],s_list[l]\n",
    "            l+=1\n",
    "            r-=1\n",
    "        return ''.join(s_list)"
   ]
  },
  {
   "cell_type": "code",
   "execution_count": 7,
   "metadata": {
    "ExecuteTime": {
     "end_time": "2019-05-20T13:23:18.336465Z",
     "start_time": "2019-05-20T13:23:18.331478Z"
    }
   },
   "outputs": [
    {
     "data": {
      "text/plain": [
       "[2, 3]"
      ]
     },
     "execution_count": 7,
     "metadata": {},
     "output_type": "execute_result"
    }
   ],
   "source": [
    "a=[1,2,3]\n",
    "b=[2,3,4]\n",
    "list(set(a) & set(b))"
   ]
  },
  {
   "cell_type": "markdown",
   "metadata": {},
   "source": [
    "# 349、数组交集"
   ]
  },
  {
   "cell_type": "code",
   "execution_count": null,
   "metadata": {},
   "outputs": [],
   "source": [
    "class Solution(object):\n",
    "    def intersection(self, nums1, nums2):\n",
    "        \"\"\"\n",
    "        :type nums1: List[int]\n",
    "        :type nums2: List[int]\n",
    "        :rtype: List[int]\n",
    "        \"\"\"\n",
    "        return  list(set(nums1) & set(nums2))   # 求set集合的交集，一行完活"
   ]
  },
  {
   "cell_type": "markdown",
   "metadata": {},
   "source": [
    "# 350、数组交集②"
   ]
  },
  {
   "cell_type": "markdown",
   "metadata": {},
   "source": [
    "查找nums1中在nums2中元素  ， 记录下来  ，并在nums2中删除"
   ]
  },
  {
   "cell_type": "code",
   "execution_count": null,
   "metadata": {},
   "outputs": [],
   "source": [
    "class Solution(object):\n",
    "    def intersect(self, nums1, nums2):\n",
    "        \"\"\"\n",
    "        :type nums1: List[int]\n",
    "        :type nums2: List[int]\n",
    "        :rtype: List[int]\n",
    "        \"\"\"\n",
    "        res=[]\n",
    "        for i in nums1:\n",
    "            if i in nums2:\n",
    "                res.append(i)\n",
    "                nums2.remove(i)\n",
    "        return res"
   ]
  },
  {
   "cell_type": "markdown",
   "metadata": {},
   "source": [
    "# 367、有效的完全平方数"
   ]
  },
  {
   "cell_type": "markdown",
   "metadata": {},
   "source": [
    "利用 1+3+5+7+9+…+(2n-1)=n^2，即完全平方数肯定是前n个连续奇数的和"
   ]
  },
  {
   "cell_type": "code",
   "execution_count": 3,
   "metadata": {
    "ExecuteTime": {
     "end_time": "2019-05-21T02:58:13.469574Z",
     "start_time": "2019-05-21T02:58:13.458605Z"
    }
   },
   "outputs": [
    {
     "data": {
      "text/plain": [
       "True"
      ]
     },
     "execution_count": 3,
     "metadata": {},
     "output_type": "execute_result"
    }
   ],
   "source": [
    "def isPerfectSquare( num):\n",
    "        \"\"\"\n",
    "        :type num: int\n",
    "        :rtype: bool\n",
    "        \"\"\"\n",
    "        i=1\n",
    "        while num>0:\n",
    "            num,i=num-i,i+2\n",
    "        return num == 0\n",
    "isPerfectSquare(16)"
   ]
  },
  {
   "cell_type": "markdown",
   "metadata": {},
   "source": [
    "# 371、两整数之和"
   ]
  },
  {
   "cell_type": "markdown",
   "metadata": {},
   "source": [
    "二分查找"
   ]
  },
  {
   "cell_type": "code",
   "execution_count": null,
   "metadata": {},
   "outputs": [],
   "source": [
    "# The guess API is already defined for you.\n",
    "# @param num, your guess\n",
    "# @return -1 if my number is lower, 1 if my number is higher, otherwise return 0\n",
    "# def guess(num):\n",
    "\n",
    "class Solution(object):\n",
    "    def guessNumber(self, n):\n",
    "        \"\"\"\n",
    "        :type n: int\n",
    "        :rtype: int\n",
    "        \"\"\"\n",
    "        l=1\n",
    "        r=n\n",
    "        while l<=r:\n",
    "            mid=(l+r)//2\n",
    "            print(mid)\n",
    "            flag=guess(mid)\n",
    "            if flag==-1:\n",
    "                r=mid-1\n",
    "            elif flag==1:\n",
    "                l=mid+1\n",
    "            else:\n",
    "                return mid\n",
    "            "
   ]
  },
  {
   "cell_type": "markdown",
   "metadata": {},
   "source": [
    "# 383、赎金信"
   ]
  },
  {
   "cell_type": "markdown",
   "metadata": {},
   "source": [
    "遍历赎金信，查找字符是否在杂志中，如果没有，false，如果有，从杂志中删除一个该种字符，继续后面的遍历"
   ]
  },
  {
   "cell_type": "code",
   "execution_count": null,
   "metadata": {},
   "outputs": [],
   "source": [
    "class Solution(object):\n",
    "    def canConstruct(self, ransomNote, magazine):\n",
    "        \"\"\"\n",
    "        :type ransomNote: str\n",
    "        :type magazine: str\n",
    "        :rtype: bool\n",
    "        \"\"\"\n",
    "        ransom_list,maga_list=list(ransomNote),list(magazine)\n",
    "        for i in ransom_list:\n",
    "            if i not in maga_list:\n",
    "                return False\n",
    "            else:\n",
    "                maga_list.remove(i)\n",
    "        return True"
   ]
  },
  {
   "cell_type": "markdown",
   "metadata": {},
   "source": [
    "# 387、字符串中的第一个唯一字符"
   ]
  },
  {
   "cell_type": "markdown",
   "metadata": {},
   "source": [
    "①构建字典，统计每个字符出现的次数，键为字符串中的字符，值为出现次数。\n",
    "\n",
    "②遍历字符串，找到第一个在字典中值为1的字符"
   ]
  },
  {
   "cell_type": "code",
   "execution_count": null,
   "metadata": {},
   "outputs": [],
   "source": [
    "class Solution(object):\n",
    "    def firstUniqChar(self, s):\n",
    "        \"\"\"\n",
    "        :type s: str\n",
    "        :rtype: int\n",
    "        \"\"\"\n",
    "        s_dic={}\n",
    "        for i in s:\n",
    "            if i not in s_dic:\n",
    "                s_dic[i]=1\n",
    "            else:\n",
    "                s_dic[i]+=1\n",
    "        for i in range(len(s)):\n",
    "            if s_dic[s[i]]==1:\n",
    "                return i\n",
    "        return -1"
   ]
  },
  {
   "cell_type": "markdown",
   "metadata": {},
   "source": [
    "# 389、找不同"
   ]
  },
  {
   "cell_type": "markdown",
   "metadata": {},
   "source": [
    "ord 函数可以把字符转换为ascii值，chr函数把ascii值转换为字符，所以用t的ascii值和减去s 的ascii值之和，得到新加入的字母的ascii值，再用chr函数转换为字符"
   ]
  },
  {
   "cell_type": "code",
   "execution_count": null,
   "metadata": {},
   "outputs": [],
   "source": [
    "class Solution(object):\n",
    "    def findTheDifference(self, s, t):\n",
    "        \"\"\"\n",
    "        :type s: str\n",
    "        :type t: str\n",
    "        :rtype: str\n",
    "        \"\"\"\n",
    "        sum=0\n",
    "        for k , v in enumerate(s):\n",
    "            sum+=(ord(t[k]) - ord(v) )\n",
    "        return chr(ord(t[-1]) + sum )\n",
    "        "
   ]
  },
  {
   "cell_type": "code",
   "execution_count": null,
   "metadata": {},
   "outputs": [],
   "source": [
    "# 此解法运行速度较慢\n",
    "\n",
    "class Solution(object):\n",
    "    def findTheDifference(self, s, t):\n",
    "        \"\"\"\n",
    "        :type s: str\n",
    "        :type t: str\n",
    "        :rtype: str\n",
    "        \"\"\"\n",
    "        s_list=list(s)\n",
    "        for  i in t:\n",
    "            if i not in s_list:\n",
    "                return i\n",
    "            else:\n",
    "                s_list.remove(i)"
   ]
  },
  {
   "cell_type": "markdown",
   "metadata": {},
   "source": [
    "# 400、第 N 个数字"
   ]
  },
  {
   "cell_type": "markdown",
   "metadata": {},
   "source": [
    "第一步 计算 n 在几位数内  ，  第二步  计算 n 是第几个数字，并计算是第几个数字的第几位数"
   ]
  },
  {
   "cell_type": "code",
   "execution_count": null,
   "metadata": {},
   "outputs": [],
   "source": [
    "class Solution(object):\n",
    "    def findNthDigit(self, n):\n",
    "        \"\"\"\n",
    "        :type n: int\n",
    "        :rtype: int\n",
    "        \"\"\"\n",
    "        # 第一步 计算 n 在几位数内\n",
    "        for i in range(1, 10):\n",
    "            if n - 9 * 10 ** (i - 1) * i <= 0:\n",
    "                k = i\n",
    "                break\n",
    "            else:\n",
    "                n -= 9 * 10 ** (i - 1) * i\n",
    "        # 第二步  计算 n 是第几个数字，并计算是第几个数字的第几位数\n",
    "        base = 10 ** (k - 1)\n",
    "        str_n = str(base + (n - 1) // k)\n",
    "        return (int(str_n[(n-1) % k]))"
   ]
  },
  {
   "cell_type": "markdown",
   "metadata": {},
   "source": [
    "# 400、二进制手表"
   ]
  },
  {
   "cell_type": "markdown",
   "metadata": {},
   "source": [
    "枚举"
   ]
  },
  {
   "cell_type": "code",
   "execution_count": null,
   "metadata": {},
   "outputs": [],
   "source": [
    "class Solution:\n",
    "    def readBinaryWatch(self, num):\n",
    "        bins = [str(bin(i))[2:].count('1') for i in range(60)]  # 60范围内所有可能亮灯数   \n",
    "        # [2:]因为bin输出格式为  ‘0b...’\n",
    "        results = []\n",
    "        for hour in range(12):\n",
    "            for minute in range(60):\n",
    "                if bins[hour] + bins[minute] == num:\n",
    "                    results.append('%d:%02d'%(hour, minute))\n",
    "        return results"
   ]
  },
  {
   "cell_type": "markdown",
   "metadata": {},
   "source": [
    "# 404、左叶子之和"
   ]
  },
  {
   "cell_type": "markdown",
   "metadata": {},
   "source": [
    "递归实现"
   ]
  },
  {
   "cell_type": "code",
   "execution_count": null,
   "metadata": {},
   "outputs": [],
   "source": [
    "# Definition for a binary tree node.\n",
    "# class TreeNode(object):\n",
    "#     def __init__(self, x):\n",
    "#         self.val = x\n",
    "#         self.left = None\n",
    "#         self.right = None\n",
    "\n",
    "class Solution(object):\n",
    "    def sumOfLeftLeaves(self, root):\n",
    "        \"\"\"\n",
    "        :type root: TreeNode\n",
    "        :rtype: int\n",
    "        \"\"\"\n",
    "        if root == None:\n",
    "            return 0\n",
    "        if root.left and (not root.left.left) and (not root.left.right):  # 判断左叶子节点，条件是没有左右子树\n",
    "            return root.left.val + self.sumOfLeftLeaves(root.right)\n",
    "        else:\n",
    "            return self.sumOfLeftLeaves(root.left)+self.sumOfLeftLeaves(root.right)  # 对于中间节点的处理 "
   ]
  },
  {
   "cell_type": "markdown",
   "metadata": {},
   "source": [
    "# 405、数字转换为十六进制数"
   ]
  },
  {
   "cell_type": "markdown",
   "metadata": {},
   "source": []
  },
  {
   "cell_type": "code",
   "execution_count": null,
   "metadata": {},
   "outputs": [],
   "source": [
    "class Solution(object):\n",
    "    def toHex(self, num):\n",
    "        \"\"\"\n",
    "        :type num: int\n",
    "        :rtype: str\n",
    "        \"\"\"\n",
    "        hex_dict = {0: '0', 1: '1', 2: '2', 3: '3', 4: '4', 5: '5', 6: '6', 7: '7', 8: '8', 9: '9', 10: 'a', 11: 'b', 12: 'c',\n",
    "            13: 'd', 14: 'e', 15: 'f'}\n",
    "        res=[]\n",
    "        if num == 0:\n",
    "            return '0'\n",
    "        else:\n",
    "            if num <0:\n",
    "                num+=2**32\n",
    "            while num > 0:\n",
    "                res.append(hex_dict[num % 16])\n",
    "                num //= 16\n",
    "            res.reverse()\n",
    "            return ''.join(res)"
   ]
  },
  {
   "cell_type": "markdown",
   "metadata": {},
   "source": [
    "# 409、最长回文串"
   ]
  },
  {
   "cell_type": "markdown",
   "metadata": {},
   "source": [
    "构造一个集合，遍历字符串，如果集合中没有就加入，如果有就移除，并且计数+2，最后判断集合是否为空。如果不为空，则计数+1，因为单个元素可以放在回文字符串的中间"
   ]
  },
  {
   "cell_type": "code",
   "execution_count": null,
   "metadata": {},
   "outputs": [],
   "source": [
    "class Solution(object):\n",
    "    def longestPalindrome(self, s):\n",
    "        \"\"\"\n",
    "        :type s: str\n",
    "        :rtype: int\n",
    "        \"\"\"\n",
    "        check=set()\n",
    "        res=0\n",
    "        for i in s:\n",
    "            if i not in check:\n",
    "                check.add(i)\n",
    "            else:\n",
    "                check.remove(i)\n",
    "                res+=1\n",
    "        return res+(1 if len(check)>=1 else 0)"
   ]
  },
  {
   "cell_type": "markdown",
   "metadata": {},
   "source": [
    "# 412、Fizz Buzz"
   ]
  },
  {
   "cell_type": "markdown",
   "metadata": {},
   "source": []
  },
  {
   "cell_type": "code",
   "execution_count": null,
   "metadata": {},
   "outputs": [],
   "source": [
    "class Solution(object):\n",
    "    def fizzBuzz(self, n):\n",
    "        \"\"\"\n",
    "        :type n: int\n",
    "        :rtype: List[str]\n",
    "        \"\"\"\n",
    "        res=[]\n",
    "        for i in range(1,n+1):\n",
    "            if i%3==0 and i%5==0:\n",
    "                res.append('FizzBuzz')\n",
    "            elif i%3==0:\n",
    "                res.append('Fizz')\n",
    "            elif i%5==0:\n",
    "                res.append('Buzz')\n",
    "            else:\n",
    "                res.append(str(i))\n",
    "        return res"
   ]
  },
  {
   "cell_type": "markdown",
   "metadata": {},
   "source": [
    "# 414、第三大的数"
   ]
  },
  {
   "cell_type": "markdown",
   "metadata": {},
   "source": [
    "1、利用集合去重 2、排序 3、找出第三大的数，如果没有，则输出第一大的数"
   ]
  },
  {
   "cell_type": "code",
   "execution_count": null,
   "metadata": {},
   "outputs": [],
   "source": [
    "class Solution(object):\n",
    "    def thirdMax(self, nums):\n",
    "        \"\"\"\n",
    "        :type nums: List[int]\n",
    "        :rtype: int\n",
    "        \"\"\"\n",
    "        nums=list(set(nums))  # 去重\n",
    "        nums.sort(reverse=True)\n",
    "        return nums[0] if len(nums)<3 else nums[2]"
   ]
  },
  {
   "cell_type": "markdown",
   "metadata": {
    "ExecuteTime": {
     "end_time": "2019-06-01T06:58:45.613430Z",
     "start_time": "2019-06-01T06:58:45.608419Z"
    }
   },
   "source": [
    "# 415、字符串相加"
   ]
  },
  {
   "cell_type": "markdown",
   "metadata": {},
   "source": []
  },
  {
   "cell_type": "code",
   "execution_count": null,
   "metadata": {},
   "outputs": [],
   "source": [
    "class Solution(object):\n",
    "    def addStrings(self, num1, num2):\n",
    "        \"\"\"\n",
    "        :type num1: str\n",
    "        :type num2: str\n",
    "        :rtype: str\n",
    "        \"\"\"\n",
    "        if len(num1) > len(num2):   # 高位用0补齐\n",
    "            num2 = '0'*(len(num1)-len(num2)) + num2\n",
    "        else:\n",
    "            num1 = '0'*(len(num2) - len(num1)) + num1\n",
    "        sum=''\n",
    "        add=0  # 记录进位\n",
    "        for i in range(len(num1)-1,-1,-1):  # 从最低位开始算起\n",
    "            tem=(ord(num1[i]) - ord('0') + ord(num2[i]) - ord('0'))+add\n",
    "            add=tem//10\n",
    "            sum = str(tem%10) + sum\n",
    "        if add!=0:   # 最后计算完成后可能还会有需要进位\n",
    "            sum=str(add) + sum  \n",
    "        return sum"
   ]
  },
  {
   "cell_type": "code",
   "execution_count": 9,
   "metadata": {
    "ExecuteTime": {
     "end_time": "2019-06-01T07:39:02.112723Z",
     "start_time": "2019-06-01T07:39:02.108735Z"
    }
   },
   "outputs": [
    {
     "data": {
      "text/plain": [
       "'ab'"
      ]
     },
     "execution_count": 9,
     "metadata": {},
     "output_type": "execute_result"
    }
   ],
   "source": [
    "class Solution:\n",
    "    def addStrings(self, num1: str, num2: str) -> str:\n",
    "        if len(num1) > len(num2):\n",
    "            num1, num2 = num2, num1\n",
    "        jw = 0\n",
    "        num = ''\n",
    "        for i in range(1, len(num1) + 1):\n",
    "            k = ord(num1[-i]) -ord('0') + ord(num2[-i]) -ord('0') + jw\n",
    "            num = str(k % 10) + num\n",
    "            jw = k // 10\n",
    "        if len(num1) != len(num2):\n",
    "            for i in range(len(num1) + 1, len(num2) + 1):\n",
    "                k = ord(num2[-i]) - ord('0') + jw\n",
    "                num = str(k % 10) + num\n",
    "                jw = k // 10\n",
    "            if jw == 1:\n",
    "            num = '1' + num\n",
    "        return num"
   ]
  },
  {
   "cell_type": "markdown",
   "metadata": {},
   "source": [
    "# 427、建立四叉树"
   ]
  },
  {
   "attachments": {
    "image.png": {
     "image/png": "[encoded data removed]"
    }
   },
   "cell_type": "markdown",
   "metadata": {},
   "source": [
    "题目介绍：\n",
    "![image.png](attachment:image.png)"
   ]
  },
  {
   "cell_type": "code",
   "execution_count": null,
   "metadata": {},
   "outputs": [],
   "source": [
    "# Definition for a QuadTree node.\n",
    "class Node(object):\n",
    "    def __init__(self, val, isLeaf, topLeft, topRight, bottomLeft, bottomRight):\n",
    "        self.val = val\n",
    "        self.isLeaf = isLeaf\n",
    "        self.topLeft = topLeft\n",
    "        self.topRight = topRight\n",
    "        self.bottomLeft = bottomLeft\n",
    "        self.bottomRight = bottomRight\n",
    "\n",
    "import numpy as np\n",
    "class Solution(object):\n",
    "    def construct(self, grid):\n",
    "        \"\"\"\n",
    "        :type grid: List[List[int]]\n",
    "        :rtype: Node\n",
    "        \"\"\"\n",
    "        root=Node('*' , None , None ,None ,None ,None )\n",
    "        if len(grid) == 1:   # 当方格内只有一个节点，则肯定是叶子节点\n",
    "            root.isLeaf = True\n",
    "            root.val = True if grid[0][0] == 1 else False\n",
    "            \n",
    "        if self.all_val_same(grid):      # 方格内所有值都相等\n",
    "            root.isLeaf = True\n",
    "            root.val = grid[0][0]\n",
    "        \n",
    "        else:     # 并非所有值都相等，还可以继续再分\n",
    "            half_length=len(grid) // 2\n",
    "            root.isLeaf = False\n",
    "            \n",
    "            # 使用array完成数组切片\n",
    "            root.topLeft = self.construct(np.array(grid)[:half_length,:half_length].tolist())\n",
    "            root.topRight = self.construct(np.array(grid)[:half_length,half_length:].tolist())\n",
    "            root.bottomLeft = self.construct(np.array(grid)[half_length: , :half_length].tolist())\n",
    "            root.bottomRight = self.construct(np.array(grid)[half_length: , half_length:].tolist())\n",
    "        return root\n",
    "        \n",
    "        \n",
    "    def all_val_same(self , grid): # 判断网格中的所有值是否相等\n",
    "        for i in range(len(grid)):\n",
    "            for j in range(len(grid[0])):\n",
    "                if grid[0][0] != grid[i][j]:\n",
    "                    return False\n",
    "        return True"
   ]
  },
  {
   "cell_type": "markdown",
   "metadata": {
    "ExecuteTime": {
     "end_time": "2019-06-02T08:41:15.530333Z",
     "start_time": "2019-06-02T08:41:15.384751Z"
    }
   },
   "source": [
    "# 429、N叉树的层次遍历"
   ]
  },
  {
   "cell_type": "markdown",
   "metadata": {},
   "source": []
  },
  {
   "cell_type": "code",
   "execution_count": null,
   "metadata": {},
   "outputs": [],
   "source": [
    "\n",
    "# Definition for a Node.\n",
    "class Node(object):\n",
    "    def __init__(self, val, children):\n",
    "        self.val = val\n",
    "        self.children = children \n",
    "\n",
    "class Solution(object):\n",
    "    def levelOrder(self, root):\n",
    "        \"\"\"\n",
    "        :type root: Node\n",
    "        :rtype: List[List[int]]\n",
    "        \"\"\"\n",
    "         if not root:  # 当root节点为空时\n",
    "            return []\n",
    "        quenen=[root]\n",
    "        res=[]\n",
    "        while quenen:  # 当前层队列\n",
    "            tem=[]\n",
    "            next_quenen=[]  # 下一队列\n",
    "            while quenen:\n",
    "                node=quenen.pop(0)\n",
    "                tem.append(node.val)\n",
    "                next_quenen.extend(node.children)  # 子节点加入下一层\n",
    "            res.append(tem)\n",
    "            quenen=next_quenen\n",
    "        return  res"
   ]
  },
  {
   "cell_type": "markdown",
   "metadata": {},
   "source": []
  },
  {
   "cell_type": "markdown",
   "metadata": {},
   "source": []
  },
  {
   "cell_type": "code",
   "execution_count": null,
   "metadata": {},
   "outputs": [],
   "source": []
  }
 ],
 "metadata": {
  "kernelspec": {
   "display_name": "Python 3",
   "language": "python",
   "name": "python3"
  },
  "language_info": {
   "codemirror_mode": {
    "name": "ipython",
    "version": 3
   },
   "file_extension": ".py",
   "mimetype": "text/x-python",
   "name": "python",
   "nbconvert_exporter": "python",
   "pygments_lexer": "ipython3",
   "version": "3.7.0"
  },
  "toc": {
   "base_numbering": 1,
   "nav_menu": {},
   "number_sections": true,
   "sideBar": true,
   "skip_h1_title": false,
   "title_cell": "Table of Contents",
   "title_sidebar": "Contents",
   "toc_cell": false,
   "toc_position": {
    "height": "693.681px",
    "left": "321px",
    "top": "183.366px",
    "width": "258.618px"
   },
   "toc_section_display": true,
   "toc_window_display": true
  },
  "varInspector": {
   "cols": {
    "lenName": 16,
    "lenType": 16,
    "lenVar": 40
   },
   "kernels_config": {
    "python": {
     "delete_cmd_postfix": "",
     "delete_cmd_prefix": "del ",
     "library": "var_list.py",
     "varRefreshCmd": "print(var_dic_list())"
    },
    "r": {
     "delete_cmd_postfix": ") ",
     "delete_cmd_prefix": "rm(",
     "library": "var_list.r",
     "varRefreshCmd": "cat(var_dic_list()) "
    }
   },
   "types_to_exclude": [
    "module",
    "function",
    "builtin_function_or_method",
    "instance",
    "_Feature"
   ],
   "window_display": false
  }
 },
 "nbformat": 4,
 "nbformat_minor": 2
}
